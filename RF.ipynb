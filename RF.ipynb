{
 "cells": [
  {
   "cell_type": "code",
   "execution_count": 8,
   "metadata": {},
   "outputs": [],
   "source": [
    "# program to calculate RF response surface given DoE points and responses\n",
    "\n",
    "import matplotlib.pyplot as plt\n",
    "import numpy as np\n",
    "import math \n",
    "\n",
    "import pandas as pd\n",
    "from sklearn.preprocessing import scale # To scale the data\n",
    "from sklearn import decomposition\n",
    "\n",
    "import os\n",
    "import random\n",
    "\n",
    "os.environ['PYTHONHASHSEED'] = '0'\n",
    "np.random.seed(42)\n",
    "random.seed(12345)"
   ]
  },
  {
   "cell_type": "code",
   "execution_count": 9,
   "metadata": {},
   "outputs": [
    {
     "name": "stdout",
     "output_type": "stream",
     "text": [
      "read finished\n"
     ]
    }
   ],
   "source": [
    "# reading data into a file\n",
    "xydata = open('test_fun.txt','r').readlines()\n",
    "\n",
    "x1 = []\n",
    "x2 = []\n",
    "x3 = []\n",
    "x4 = []\n",
    "x5 = []\n",
    "x6 = []\n",
    "x7 = []\n",
    "x8 = []\n",
    "x9 = []\n",
    "x10 = []\n",
    "x11 = []\n",
    "x12 = []\n",
    "corrosion_rate= []\n",
    "\n",
    "for line in xydata:\n",
    "    x1.append(float(line.split()[0]))\n",
    "    x2.append(float(line.split()[1]))\n",
    "    x3.append(float(line.split()[2]))\n",
    "    x4.append(float(line.split()[3]))\n",
    "    x5.append(float(line.split()[4]))\n",
    "    x6.append(float(line.split()[5]))\n",
    "    x7.append(float(line.split()[6]))\n",
    "    x8.append(float(line.split()[7]))\n",
    "    x9.append(float(line.split()[8]))\n",
    "    x10.append(float(line.split()[9]))\n",
    "    x11.append(float(line.split()[10]))\n",
    "    x12.append(float(line.split()[11]))\n",
    "    corrosion_rate.append(float(line.split()[12]))\n",
    "    \n",
    "print ('read finished')"
   ]
  },
  {
   "cell_type": "code",
   "execution_count": 10,
   "metadata": {},
   "outputs": [
    {
     "name": "stdout",
     "output_type": "stream",
     "text": [
      "n = 1000 ndv = 12\n"
     ]
    }
   ],
   "source": [
    "# dimensional DoE points\n",
    "x_dim = (np.vstack([x1,x2,x3,x4,x5,x6,x7,x8,x9,x10,x11,x12])).transpose()\n",
    "\n",
    "# Calculating number of DoE points for matrix x\n",
    "n=int(x_dim.shape[0])\n",
    "\n",
    "# Calculating number of dvs\n",
    "ndv=int(x_dim.shape[1])\n",
    "print ('n = {0:d} ndv = {1:d}'.format(n,ndv))\n",
    "\n",
    "# scale x1 and x2 design variables to lie between 0 and 1\n",
    "x1_scaled = []\n",
    "x2_scaled = []\n",
    "x3_scaled = []\n",
    "x4_scaled = []\n",
    "x5_scaled = []\n",
    "x6_scaled = []\n",
    "x7_scaled = []\n",
    "x8_scaled = []\n",
    "x9_scaled = []\n",
    "x10_scaled = []\n",
    "x11_scaled = []\n",
    "x12_scaled = []\n",
    "\n",
    "for i in range(0,n):\n",
    "    x1_scaled.append((x1[i]-min(x1))/(max(x1)-min(x1)))\n",
    "    x2_scaled.append((x2[i]-min(x2))/(max(x2)-min(x2)))\n",
    "    x3_scaled.append((x3[i]-min(x3))/(max(x3)-min(x3)))\n",
    "    x4_scaled.append((x4[i]-min(x4))/(max(x4)-min(x4)))\n",
    "    x5_scaled.append((x5[i]-min(x5))/(max(x5)-min(x5)))\n",
    "    x6_scaled.append((x6[i]-min(x6))/(max(x6)-min(x6)))\n",
    "    x7_scaled.append((x7[i]-min(x7))/(max(x7)-min(x7)))\n",
    "    x8_scaled.append((x8[i]-min(x8))/(max(x8)-min(x8)))\n",
    "    x9_scaled.append((x9[i]-min(x9))/(max(x9)-min(x9)))\n",
    "    x10_scaled.append((x10[i]-min(x10))/(max(x10)-min(x10)))\n",
    "    x11_scaled.append((x11[i]-min(x11))/(max(x11)-min(x11)))\n",
    "    x12_scaled.append((x12[i]-min(x12))/(max(x12)-min(x12)))\n",
    "    \n",
    "# vector of scaled DoE points\n",
    "x_nondim = (np.vstack([x1_scaled,x2_scaled,x3_scaled,x4_scaled,x5_scaled,\\\n",
    "                      x6_scaled,x7_scaled,x8_scaled,x9_scaled,x10_scaled,x11_scaled,x12_scaled])).transpose()\n",
    "\n",
    "# array of floats needed for use in ANN functions\n",
    "x_scaled = np.array(x_nondim,dtype='float64')\n",
    "\n",
    "# Now scale the objectives to lie between 0 and 1: objective 1 =\n",
    "minobj1 = min(corrosion_rate)\n",
    "denom1 = (max(corrosion_rate)-min(corrosion_rate))\n",
    "\n",
    "o1 = []\n",
    "\n",
    "for i in range(0,len(corrosion_rate)):\n",
    "    o1.append((corrosion_rate[i]-minobj1)/denom1)\n",
    "    \n",
    "####################### GridsearchCV #######################\n",
    "\n",
    "from sklearn.ensemble import RandomForestRegressor \n",
    "\n",
    "from sklearn.metrics import make_scorer\n",
    "from sklearn.metrics import mean_squared_error"
   ]
  },
  {
   "cell_type": "code",
   "execution_count": 11,
   "metadata": {},
   "outputs": [],
   "source": [
    "from sklearn.model_selection import train_test_split\n",
    "x_train, x_test, o1_train, o1_test = train_test_split(x_scaled, o1, test_size = 0.30)   \n",
    "    \n",
    "# array of floats needed for use in ANN functions\n",
    "obj1 = np.array(o1_train,dtype='float64')\n",
    "\n",
    "# Surrogate modelling of objective using Random Forests\n",
    "from sklearn.ensemble import RandomForestRegressor \n",
    "\n",
    "# create regressor object \n",
    "rf_regressor = RandomForestRegressor(n_estimators = 500, bootstrap=1, random_state = 1)\n",
    "rf_cr = rf_regressor.fit(x_train, obj1)\n",
    "\n",
    "obj_pred = rf_cr.predict(x_test)"
   ]
  },
  {
   "cell_type": "code",
   "execution_count": 12,
   "metadata": {},
   "outputs": [
    {
     "name": "stdout",
     "output_type": "stream",
     "text": [
      "Optimal values Erev_H = -2.12174e-01 b_H = 1.12872e-01 del_H = 2.79855e+04 del_H2CO3 = 5.35956e+04 Iref_H = 5.52353e-02      a1_H = 4.25888e-01 Iref_H2CO3 = 5.29041e-02 a1_H2CO3 = -4.76462e-01 cCO2ref_Fe = 2.97892e-02          delH_Fe = 4.05464e+04 Erev_Fe = -4.84736e-01 b_Fe = 3.59957e-02\n",
      "optimal value 1.41867e-01\n"
     ]
    }
   ],
   "source": [
    "\n",
    "# ----------------------------------------------------------------------------------------\n",
    "# Single objective optimisation of corrosion using Random Forests\n",
    "# ----------------------------------------------------------------------------------------\n",
    "from scipy import optimize\n",
    "\n",
    "def obj1_f(x): # function to be optimised\n",
    "    xdash = np.zeros((1,12),dtype='float64') # need compatible data for optimizer\n",
    "    xdash[0][0] = x[0]\n",
    "    xdash[0][1] = x[1]\n",
    "    xdash[0][2] = x[2]\n",
    "    xdash[0][3] = x[3]\n",
    "    xdash[0][4] = x[4]\n",
    "    xdash[0][5] = x[5]\n",
    "    xdash[0][6] = x[6]\n",
    "    xdash[0][7] = x[7]\n",
    "    xdash[0][8] = x[8]\n",
    "    xdash[0][9] = x[9]\n",
    "    xdash[0][10] = x[10]\n",
    "    xdash[0][11] = x[11]    \n",
    "    return rf_cr.predict(xdash)\n",
    "\n",
    "# testing obj1_f for data input compatibility\n",
    "x = [0.5,0.5,0.5,0.5,0.5,0.5,0.5,0.5,0.5,0.5,0.5,0.5]\n",
    "yval = obj1_f(x)\n",
    " \n",
    "bnds = ((0,1),(0,1),(0,1),(0,1),(0,1),(0,1),(0,1),(0,1),(0,1),(0,1),(0,1),(0,1))     # set optimisation bounds\n",
    "\n",
    "optmethod = \"Powell\"   # set optimisation method\n",
    "\n",
    "# optimise with scipy functions\n",
    "if (optmethod==\"Nelder-Mead\"):\n",
    "    res = optimize.minimize(obj1_f,x, bounds=bnds, method=\"Nelder-Mead\")\n",
    "elif (optmethod==\"Powell\"):\n",
    "      res = optimize.minimize(obj1_f,x, bounds=bnds, method=\"Powell\")\n",
    "\n",
    "# Transforming normalized parameters to physical space\n",
    "\n",
    "x1opt = res.x[0]*(max(x1)-min(x1))+min(x1)\n",
    "x2opt = res.x[1]*(max(x2)-min(x2))+min(x2)\n",
    "x3opt = res.x[2]*(max(x3)-min(x3))+min(x3)\n",
    "x4opt = res.x[3]*(max(x4)-min(x4))+min(x4)\n",
    "x5opt= res.x[4]*(max(x5)-min(x5))+min(x5)\n",
    "x6opt = res.x[5]*(max(x6)-min(x6))+min(x6)\n",
    "x7opt = res.x[6]*(max(x7)-min(x7))+min(x7)\n",
    "x8opt = res.x[7]*(max(x8)-min(x8))+min(x8)\n",
    "x9opt = res.x[8]*(max(x9)-min(x9))+min(x9)\n",
    "x10opt = res.x[9]*(max(x10)-min(x10))+min(x10)\n",
    "x11opt = res.x[10]*(max(x11)-min(x11))+min(x11)\n",
    "x12opt = res.x[11]*(max(x12)-min(x12))+min(x12)\n",
    "        \n",
    "print(\"Optimal values Erev_H = {0:10.5e} b_H = {1:10.5e} del_H = {2:10.5e} del_H2CO3 = {3:10.5e} Iref_H = {4:10.5e}\\\n",
    "      a1_H = {5:10.5e} Iref_H2CO3 = {6:10.5e} a1_H2CO3 = {7:10.5e} cCO2ref_Fe = {8:10.5e}\\\n",
    "          delH_Fe = {9:10.5e} Erev_Fe = {10:10.5e} b_Fe = {11:10.5e}\"\\\n",
    "      .format(x1opt, x2opt, x3opt,x4opt, x5opt, x6opt, x7opt,\\\n",
    "              x8opt, x9opt, x10opt, x11opt, x12opt))\n",
    "    \n",
    "print(\"optimal value {0:10.5e}\".format(res.fun))\n",
    "xopt = res.x[0]\n",
    "yopt = res.x[1]\n",
    "optval = res.fun\n"
   ]
  },
  {
   "cell_type": "code",
   "execution_count": 13,
   "metadata": {},
   "outputs": [],
   "source": [
    "data = {'Parameters':['Erev_H','b_H','del_H','del_H2CO3','Iref_H','a1_H','Iref_H2CO3','a1_H2CO3','cCO2ref_Fe','delH_Fe',\n",
    "                     'Erev_Fe','b_Fe'],'Values':[x1opt,x2opt,x3opt,x4opt,x5opt,x6opt,x7opt,x8opt,x9opt,x10opt,x11opt,x12opt]}\n",
    "\n",
    "df = pd.DataFrame(data)\n",
    "\n",
    "df = df.round(3)\n",
    "\n",
    "df.loc[2, 'Values'] = round(df.loc[2, 'Values'], 0)\n",
    "df.loc[3, 'Values'] = round(df.loc[3, 'Values'], 0)\n",
    "df.loc[9, 'Values'] = round(df.loc[9, 'Values'], 0)"
   ]
  },
  {
   "cell_type": "code",
   "execution_count": 14,
   "metadata": {},
   "outputs": [
    {
     "name": "stdout",
     "output_type": "stream",
     "text": [
      "Mean Square Error = 0.012111595060815866\n",
      "Root Mean Square Error = 0.11005269220158072\n",
      "R-sqaure = 0.6817496997042467\n"
     ]
    },
    {
     "data": {
      "image/png": "[encoded data removed]",
      "text/plain": [
       "<Figure size 504x360 with 1 Axes>"
      ]
     },
     "metadata": {
      "needs_background": "light"
     },
     "output_type": "display_data"
    }
   ],
   "source": [
    "# calculate RMSE for cross validation\n",
    "MSE = np.square(np.subtract(obj_pred,o1_test)).mean()   \n",
    "print(\"Mean Square Error = {0:2}\".format (MSE))  \n",
    "\n",
    "\n",
    "RMSE = math.sqrt(MSE)  \n",
    "print(\"Root Mean Square Error = {0:2}\".format (RMSE))  \n",
    "\n",
    "from sklearn.metrics import r2_score\n",
    "R2= r2_score(o1_test,obj_pred)\n",
    "\n",
    "print(\"R-sqaure = {0:2}\".format (R2)) \n",
    "\n",
    "\n",
    "\n",
    "fig = plt.figure()\n",
    "fig = plt.gcf()\n",
    "fig.set_size_inches(7,5)\n",
    "\n",
    "ax = fig.add_axes([0,0,1,1])\n",
    "\n",
    "#plt.rc('grid', linestyle=\"-\", color='black')\n",
    "\n",
    "plt.plot(o1,o1,color='black',linestyle='dashed')\n",
    "\n",
    "plt.scatter(o1_test,obj_pred,marker=\"o\",color='black')\n",
    "\n",
    "\n",
    "plt.xlim(0,1)\n",
    "plt.ylim(0,1)\n",
    "\n",
    "# plt.legend (['Current model','Empirical correlation','Nesic et al.(1995)'], loc='upper left')\n",
    "\n",
    "plt.xlabel (\"Actual Corrosion Rate (mm/yr)\")\n",
    "plt.ylabel (\"Predicted Corrosion Rate (mm/yr)\")\n",
    "plt.grid(linestyle=':')\n",
    "    \n",
    "plt.savefig('RF Predictions',bbox_inches='tight', dpi=150)\n",
    "\n",
    "plt.show()\n"
   ]
  },
  {
   "cell_type": "code",
   "execution_count": null,
   "metadata": {},
   "outputs": [],
   "source": []
  }
 ],
 "metadata": {
  "kernelspec": {
   "display_name": "Python 3",
   "language": "python",
   "name": "python3"
  },
  "language_info": {
   "codemirror_mode": {
    "name": "ipython",
    "version": 3
   },
   "file_extension": ".py",
   "mimetype": "text/x-python",
   "name": "python",
   "nbconvert_exporter": "python",
   "pygments_lexer": "ipython3",
   "version": "3.8.5"
  }
 },
 "nbformat": 4,
 "nbformat_minor": 5
}
